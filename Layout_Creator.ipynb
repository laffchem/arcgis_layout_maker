{
 "cells": [
  {
   "cell_type": "code",
   "execution_count": 18,
   "metadata": {},
   "outputs": [],
   "source": [
    "aprx = arcpy.mp.ArcGISProject(\"CURRENT\")\n",
    "mapx = aprx.listMaps()[0]\n",
    "lyt = aprx.listLayouts()"
   ]
  },
  {
   "cell_type": "code",
   "execution_count": 19,
   "metadata": {},
   "outputs": [
    {
     "name": "stdout",
     "output_type": "stream",
     "text": [
      "<arcpy._mp.Layout object at 0x0000025BAC3C4250>\n",
      "Parcel_\n"
     ]
    }
   ],
   "source": [
    "#Ensure this value is \"Parcel_\"\n",
    "lyt = lyt[1]\n",
    "print(lyt)\n",
    "print(lyt.name)"
   ]
  },
  {
   "cell_type": "code",
   "execution_count": 20,
   "metadata": {},
   "outputs": [
    {
     "name": "stdout",
     "output_type": "stream",
     "text": [
      "Parcel\n",
      "Map Frame\n"
     ]
    }
   ],
   "source": [
    "lyr = mapx.listLayers(\"Parcel\")[0]\n",
    "print(lyr.name)\n",
    "mf = lyt.listElements(\"MAPFRAME_ELEMENT\")[0]\n",
    "print(mf.name)"
   ]
  },
  {
   "cell_type": "code",
   "execution_count": 21,
   "metadata": {},
   "outputs": [
    {
     "name": "stdout",
     "output_type": "stream",
     "text": [
      "Enter the parcel id for the utility availability request.\n",
      "282034955000200\n",
      "Creating map...\n"
     ]
    }
   ],
   "source": [
    "program_running = True\n",
    "while program_running:\n",
    "    parcel_id = input('Enter the parcel id for the utility availability request.\\n')\n",
    "\n",
    "    if len(parcel_id) == 15:\n",
    "        try:\n",
    "            parcel_id = int(parcel_id)\n",
    "        except ValueError:\n",
    "            print(f\"Error: Your entry: '{parcel_id}' is invalid. You need to enter a 15 numeric character parcel id.\")\n",
    "        else:\n",
    "            parcel_ids = str(parcel_id)\n",
    "            print('Creating map...')\n",
    "            program_running = False\n",
    "    else:\n",
    "        print(f\"Input error... Your entry: '{parcel_id}' needs to be 15 numeric characters.\")"
   ]
  },
  {
   "cell_type": "code",
   "execution_count": 22,
   "metadata": {},
   "outputs": [
    {
     "name": "stdout",
     "output_type": "stream",
     "text": [
      "What scale would you like the map to be?\n",
      "3600\n"
     ]
    }
   ],
   "source": [
    "lyr.definitionQuery = f\"PARCEL = '{parcel_id}'\"\n",
    "desired_scale = input('What scale would you like the map to be?\\n')\n"
   ]
  },
  {
   "cell_type": "code",
   "execution_count": 13,
   "metadata": {},
   "outputs": [
    {
     "name": "stdout",
     "output_type": "stream",
     "text": [
      "3600.0\n"
     ]
    }
   ],
   "source": [
    "lyr_extent = mf.getLayerExtent(lyr)\n",
    "mf.camera.setExtent(lyr_extent)\n",
    "mf.camera.scale = float(desired_scale)\n",
    "print(mf.camera.scale)"
   ]
  },
  {
   "cell_type": "code",
   "execution_count": 28,
   "metadata": {},
   "outputs": [
    {
     "name": "stdout",
     "output_type": "stream",
     "text": [
      "150.0\n"
     ]
    }
   ],
   "source": [
    "# Change the title\n",
    "title = lyt.listElements(\"TEXT_ELEMENT\", \"Title\")[0]\n",
    "title.text = f'Utility Availability Request\\nParcel ID: {parcel_id}'\n",
    "parcel_layoutCIM = lyt.getDefinition(\"V3\")\n",
    "divisionUnit = float(desired_scale) / 24\n",
    "# Edits the scale bar values based on your \"desired scale\"\n",
    "for elm in parcel_layoutCIM.elements:\n",
    "    if elm.name == \"Scale Bar\":\n",
    "        elm.division = divisionUnit\n",
    "        print(elm.division)\n",
    "lyt.setDefinition(parcel_layoutCIM)"
   ]
  },
  {
   "cell_type": "code",
   "execution_count": 104,
   "metadata": {},
   "outputs": [
    {
     "data": {
      "text/plain": [
       "'C:\\\\Projects\\\\Utilities Availability Requests\\\\Completed\\\\Parcel_282034955000200.pdf'"
      ]
     },
     "execution_count": 104,
     "metadata": {},
     "output_type": "execute_result"
    }
   ],
   "source": [
    "lyt.exportToPDF(out_pdf=f\"C:\\\\Projects\\\\Utilities Availability Requests\\\\Completed\\\\Parcel_{parcel_id}.pdf\")"
   ]
  },
  {
   "cell_type": "code",
   "execution_count": 120,
   "metadata": {},
   "outputs": [
    {
     "name": "stdout",
     "output_type": "stream",
     "text": [
      "Run through the code again to create a new layout.\n"
     ]
    }
   ],
   "source": [
    "lyr.definitionQuery = None\n",
    "print('Run through the code again to create a new layout.')"
   ]
  }
 ],
 "metadata": {
  "kernelspec": {
   "display_name": "ArcGISPro",
   "language": "Python",
   "name": "python3"
  },
  "language_info": {
   "file_extension": ".py",
   "name": "python",
   "version": "3"
  }
 },
 "nbformat": 4,
 "nbformat_minor": 2
}
